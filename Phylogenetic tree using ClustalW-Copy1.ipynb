{
 "cells": [
  {
   "cell_type": "code",
   "execution_count": 4,
   "id": "6c5e2814",
   "metadata": {},
   "outputs": [],
   "source": [
    "#import BioPython\n",
    "import Bio as Bio"
   ]
  },
  {
   "cell_type": "code",
   "execution_count": 5,
   "id": "ac6eca11",
   "metadata": {},
   "outputs": [
    {
     "data": {
      "text/plain": [
       "'C:\\\\Users\\\\Senthil\\\\Desktop\\\\Bioinfo project'"
      ]
     },
     "execution_count": 5,
     "metadata": {},
     "output_type": "execute_result"
    }
   ],
   "source": [
    "import os\n",
    "os.chdir('C:\\\\Users\\\\Senthil\\\\Desktop\\\\Bioinfo project')\n",
    "os.getcwd()"
   ]
  },
  {
   "cell_type": "code",
   "execution_count": 6,
   "id": "bd2927d8",
   "metadata": {},
   "outputs": [],
   "source": [
    "#importing Packages\n",
    "from Bio import SeqIO\n",
    "from Bio import AlignIO\n",
    "from Bio import Phylo\n",
    "from Bio.Phylo.TreeConstruction import DistanceCalculator, DistanceTreeConstructor"
   ]
  },
  {
   "cell_type": "code",
   "execution_count": 9,
   "id": "380af33d",
   "metadata": {},
   "outputs": [],
   "source": [
    "#importing the commandline software\n",
    "from Bio.Align.Applications import ClustalwCommandline\n",
    "in_file='SPP1_unaligned.fasta'"
   ]
  },
  {
   "cell_type": "code",
   "execution_count": 10,
   "id": "8d211ecd",
   "metadata": {},
   "outputs": [],
   "source": [
    "#Parsing DNA file\n",
    "clustalw_cline=ClustalwCommandline(\"clustalw2\", infile=in_file)"
   ]
  },
  {
   "cell_type": "code",
   "execution_count": 11,
   "id": "c8b99b5d",
   "metadata": {},
   "outputs": [
    {
     "name": "stdout",
     "output_type": "stream",
     "text": [
      "clustalw2 -infile=SPP1_unaligned.fasta\n"
     ]
    }
   ],
   "source": [
    "print(clustalw_cline)"
   ]
  },
  {
   "cell_type": "code",
   "execution_count": 12,
   "id": "609b838a",
   "metadata": {},
   "outputs": [
    {
     "name": "stdout",
     "output_type": "stream",
     "text": [
      "\"C:\\Program Files (x86)\\ClustalW2\\clustalw2.exe\" -infile=SPP1_unaligned.fasta\n"
     ]
    }
   ],
   "source": [
    "clustalw_exe= r\"C:\\Program Files (x86)\\ClustalW2\\clustalw2.exe\"\n",
    "clustalw_cline=ClustalwCommandline(clustalw_exe, infile='SPP1_unaligned.fasta')\n",
    "assert os.path.isfile(clustalw_exe),\"Clustal_W executable is missing\"\n",
    "stdout,stder = clustalw_cline()\n",
    "print(clustalw_cline)"
   ]
  },
  {
   "cell_type": "code",
   "execution_count": 13,
   "id": "94a1c27a",
   "metadata": {},
   "outputs": [
    {
     "name": "stdout",
     "output_type": "stream",
     "text": [
      "Alignment with 6 rows and 1877 columns\n",
      "--------------------------------------------...CTA gorilla\n",
      "--------------------------------------------...--- human\n",
      "TAATGTTTTTCCCTACTTTCTCCCTTTTTCATGGGATCCCTAAG...CTA chimp\n",
      "--------------------------------------------...--- dog\n",
      "--------------------------------------------...--- pig\n",
      "--------------------------------------------...--- Bovine\n"
     ]
    }
   ],
   "source": [
    "#Generate the alignment output\n",
    "from Bio import AlignIO\n",
    "ClustalAlign = AlignIO.read('SPP1_unaligned.aln', 'clustal')\n",
    "print(ClustalAlign)"
   ]
  },
  {
   "cell_type": "code",
   "execution_count": 14,
   "id": "86a3f1d0",
   "metadata": {},
   "outputs": [
    {
     "name": "stdout",
     "output_type": "stream",
     "text": [
      "                                   ___________________________________ Bovine\n",
      "                          ________|\n",
      "   ______________________|        |_______________________________ pig\n",
      "  |                      |\n",
      " ,|                      |______________________________ dog\n",
      " ||\n",
      " || chimp\n",
      "_|\n",
      " | gorilla\n",
      " |\n",
      " |_ human\n",
      "\n"
     ]
    }
   ],
   "source": [
    "#Generate the dendogram (Tree) output\n",
    "from Bio import Phylo\n",
    "tree = Phylo.read(\"SPP1_unaligned.dnd\", 'newick')\n",
    "tree.rooted=True\n",
    "Phylo.draw_ascii(tree)"
   ]
  },
  {
   "cell_type": "code",
   "execution_count": 17,
   "id": "5b8381cb",
   "metadata": {},
   "outputs": [],
   "source": [
    "tree=tree.as_phyloxml()"
   ]
  },
  {
   "cell_type": "code",
   "execution_count": 24,
   "id": "12516013",
   "metadata": {},
   "outputs": [],
   "source": [
    "tree.root.color='salmon'"
   ]
  },
  {
   "cell_type": "code",
   "execution_count": 21,
   "id": "39a0c14e",
   "metadata": {},
   "outputs": [
    {
     "data": {
      "image/png": "[encoded data removed]",
      "text/plain": [
       "<Figure size 432x288 with 1 Axes>"
      ]
     },
     "metadata": {
      "needs_background": "light"
     },
     "output_type": "display_data"
    }
   ],
   "source": [
    "Phylo.draw(tree)"
   ]
  },
  {
   "cell_type": "code",
   "execution_count": null,
   "id": "4737bfd6",
   "metadata": {},
   "outputs": [],
   "source": []
  }
 ],
 "metadata": {
  "kernelspec": {
   "display_name": "Python 3 (ipykernel)",
   "language": "python",
   "name": "python3"
  },
  "language_info": {
   "codemirror_mode": {
    "name": "ipython",
    "version": 3
   },
   "file_extension": ".py",
   "mimetype": "text/x-python",
   "name": "python",
   "nbconvert_exporter": "python",
   "pygments_lexer": "ipython3",
   "version": "3.9.7"
  }
 },
 "nbformat": 4,
 "nbformat_minor": 5
}
